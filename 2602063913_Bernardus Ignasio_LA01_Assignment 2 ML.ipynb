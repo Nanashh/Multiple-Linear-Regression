{
 "cells": [
  {
   "cell_type": "markdown",
   "id": "f7ea13eb",
   "metadata": {},
   "source": [
    "# Assignment 2 Machine Learning"
   ]
  },
  {
   "cell_type": "markdown",
   "id": "7ce92432",
   "metadata": {},
   "source": [
    "NIM              : 2602063913\n",
    "\n",
    "NAME             : Bernardus Ignasio\n",
    "\n",
    "CLASS            : LA01\n",
    "\n",
    "Assignment Number: 2"
   ]
  },
  {
   "cell_type": "markdown",
   "id": "774a6e72",
   "metadata": {},
   "source": [
    "## No 1"
   ]
  },
  {
   "cell_type": "code",
   "execution_count": 62,
   "id": "3924dacc",
   "metadata": {},
   "outputs": [],
   "source": [
    "import pandas as pd\n",
    "import numpy as np\n",
    "from csv import reader\n",
    "from math import sqrt\n",
    "import math"
   ]
  },
  {
   "cell_type": "code",
   "execution_count": 81,
   "id": "8005ac8a",
   "metadata": {},
   "outputs": [],
   "source": [
    "def load_csv(filename):\n",
    "    dataset = list()\n",
    "    with open(filename, 'r') as file:\n",
    "        csv_reader = reader(file)\n",
    "        for row in csv_reader:\n",
    "            if not row:\n",
    "                continue\n",
    "            dataset.append(row)\n",
    "    return dataset"
   ]
  },
  {
   "cell_type": "markdown",
   "id": "363acf41",
   "metadata": {},
   "source": [
    "### Standarizing Data\n",
    "\n",
    "Data is standarized to make the value has same scale based on their mean and standard deviation. This method is used because it has better performa"
   ]
  },
  {
   "cell_type": "code",
   "execution_count": 90,
   "id": "fc717256",
   "metadata": {},
   "outputs": [
    {
     "name": "stdout",
     "output_type": "stream",
     "text": [
      "[0.13000986907454054, -0.2236751871685913, 0.47574686657859083]\n"
     ]
    }
   ],
   "source": [
    "def str_column_to_float(dataset, column):\n",
    "    for row in dataset:\n",
    "        row[column] = float(row[column].strip())\n",
    "        \n",
    "def column_means(dataset):\n",
    "    means = [0 for i in range(len(dataset[0]))]\n",
    "    for i in range(len(dataset[0])):\n",
    "        col_values = [row[i] for row in dataset]\n",
    "        means[i] = sum(col_values) / float(len(dataset))\n",
    "    return means\n",
    "\n",
    "def column_stdev(dataset,means):\n",
    "    stdevs=[0 for i in range(len(dataset[0]))]\n",
    "    for i in range(len(dataset[0])):\n",
    "        variance=[pow(row[i]-means[i],2) for row in dataset]\n",
    "        stdevs[i]=sum(variance)\n",
    "    stdev=[sqrt(x/(float(len(dataset)-1))) for x in stdevs]\n",
    "    return stdev\n",
    "\n",
    "def standardize_dataset(dataset,means,stdevs):\n",
    "    for row in dataset:\n",
    "        for i in range(len(row)):\n",
    "            row[i]=(row[i]-means[i])/stdevs[i]\n",
    "\n",
    "filename='home.txt'\n",
    "dataset=load_csv(filename)\n",
    "            \n",
    "for i in range(len(dataset[0])):\n",
    "    str_column_to_float(dataset, i)\n",
    "    \n",
    "means=column_means(dataset)\n",
    "stdevs=column_stdev(dataset,means)\n",
    "\n",
    "standardize_dataset(dataset,means,stdevs)\n",
    "print(dataset[0])"
   ]
  },
  {
   "cell_type": "markdown",
   "id": "4fe03039",
   "metadata": {},
   "source": [
    "### Fitting into training & test set"
   ]
  },
  {
   "cell_type": "code",
   "execution_count": 91,
   "id": "91bbd307",
   "metadata": {},
   "outputs": [],
   "source": [
    "x=[row[:-1] for row in dataset]\n",
    "y=[row[-1] for row in dataset]"
   ]
  },
  {
   "cell_type": "code",
   "execution_count": 92,
   "id": "39c2fa7d",
   "metadata": {},
   "outputs": [],
   "source": [
    "index=list(np.arange(len(dataset)))\n",
    "np.random.shuffle(index)\n",
    "split=int(0.8*len(dataset))\n",
    "\n",
    "x=np.array(x)\n",
    "y=np.array(y)\n",
    "\n",
    "x_train,x_test=x[index[:split]], x[index[split:]]\n",
    "y_train,y_test=y[index[:split]], y[index[split:]]"
   ]
  },
  {
   "cell_type": "markdown",
   "id": "abca4691",
   "metadata": {},
   "source": [
    "### Predicting the training & test result"
   ]
  },
  {
   "cell_type": "code",
   "execution_count": 93,
   "id": "ee4b7a2e",
   "metadata": {},
   "outputs": [],
   "source": [
    "class MLR:\n",
    "    def __init__(self):\n",
    "        self.coeff_=None\n",
    "        self.intercept_=None\n",
    "    \n",
    "    def fit(self,x,y):\n",
    "        x=np.insert(x,0,1,axis=1)\n",
    "        betas=np.dot(np.dot(np.linalg.inv(np.dot(x.T,x)),x.T),y)\n",
    "        self.intercept_=betas[0]\n",
    "        self.coeff_=betas[1:]\n",
    "        \n",
    "    def predict(self,x):\n",
    "        y_pred=np.dot(x,self.coeff_)+ self.intercept_\n",
    "        return y_pred"
   ]
  },
  {
   "cell_type": "code",
   "execution_count": 94,
   "id": "59f0c586",
   "metadata": {},
   "outputs": [
    {
     "data": {
      "text/plain": [
       "(array([ 0.9068845 , -0.10135699]), -0.01404181980368411)"
      ]
     },
     "execution_count": 94,
     "metadata": {},
     "output_type": "execute_result"
    }
   ],
   "source": [
    "mlr=MLR()\n",
    "mlr.fit(x_train,y_train)\n",
    "mlr.coeff_,mlr.intercept_"
   ]
  },
  {
   "cell_type": "code",
   "execution_count": 95,
   "id": "a0b60db1",
   "metadata": {},
   "outputs": [
    {
     "name": "stdout",
     "output_type": "stream",
     "text": [
      "[-0.08328269  1.86730269  0.87561923 -0.88381916 -1.12374258 -0.80704367\n",
      " -0.77985235  1.27627534 -0.72387022 -0.78305133]\n",
      "[-0.11767561  2.16464933  0.21700862 -0.86057238 -0.86399586 -0.90165422\n",
      " -0.44404807  0.56962782 -1.01919396 -0.56957595]\n"
     ]
    }
   ],
   "source": [
    "y_pred=mlr.predict(x_test)\n",
    "print(y_test)\n",
    "print(y_pred)"
   ]
  },
  {
   "cell_type": "markdown",
   "id": "433a6623",
   "metadata": {},
   "source": [
    "### Evaluation Metrics"
   ]
  },
  {
   "cell_type": "code",
   "execution_count": 96,
   "id": "15fbb28f",
   "metadata": {},
   "outputs": [],
   "source": [
    "def mea(pred,test):\n",
    "    n=len(pred)\n",
    "    sum=0\n",
    "    for i in range(n):\n",
    "        sum+=abs(test[i]-pred[i])\n",
    "    error=sum/n\n",
    "    return error\n",
    "\n",
    "def rmse(pred,test):\n",
    "    mse=np.square(np.subtract(y_test,y_pred)).mean()\n",
    "    rmse=math.sqrt(mse)\n",
    "    return rmse\n",
    "\n",
    "def r2(pred,test):\n",
    "    corr_matrix=np.corrcoef(test,pred)\n",
    "    corr=corr_matrix[0,1]\n",
    "    r2=corr**2\n",
    "    return r2"
   ]
  },
  {
   "cell_type": "code",
   "execution_count": 97,
   "id": "f1950a45",
   "metadata": {},
   "outputs": [
    {
     "name": "stdout",
     "output_type": "stream",
     "text": [
      "Evaluation Metrics\n",
      "MEA:  0.2919205147578155\n",
      "RMSE:  0.3667736144713026\n",
      "R2:  0.8725577270118904\n"
     ]
    }
   ],
   "source": [
    "mea=mea(y_pred,y_test)\n",
    "rmse=rmse(y_pred,y_test)\n",
    "r2=r2(y_pred,y_test)\n",
    "print(\"Evaluation Metrics\")\n",
    "print('MEA: ',mea)\n",
    "print('RMSE: ',rmse)\n",
    "print('R2: ', r2)"
   ]
  },
  {
   "cell_type": "markdown",
   "id": "4c2f5475",
   "metadata": {},
   "source": [
    "## No 2"
   ]
  },
  {
   "cell_type": "markdown",
   "id": "af57b3a6",
   "metadata": {},
   "source": [
    "#### 1. How to avoid underfitting in model supervised learning?\n",
    "\n",
    "Underfitting happens when the model fails to predict the data because lack of ability to learn enough from training, this identificated by high bias and low variance. To avoid this, we can do several things such:\n",
    "- Increasing model complexity : using more complex algorithm, adding more parameters, etc\n",
    "- Increasing number of features in dataset : adding more features to help model identify patterns and improve accuration\n",
    "- Removing noise from the data : eliminating irrelevant, redundant and misleading data that can distract the pattern identification\n",
    "- Increasing the duration of training : extending the training time to let model learn more from training data"
   ]
  },
  {
   "attachments": {
    "image-2.png": {
     "image/png": "[encoded data removed]"
    },
    "image-3.png": {
     "image/png": "[encoded data removed]"
    },
    "image-4.png": {
     "image/png": "[encoded data removed]"
    }
   },
   "cell_type": "markdown",
   "id": "c2cc7ba4",
   "metadata": {},
   "source": [
    "#### 2. Explain two types of regularization techniques!\n",
    "- Ridge Regession :\n",
    " L2 Regularization is used to reduce complexity of model with introducing small amount of bias in order to get better predictions. this adds bias called ridge regression penalty, which is squared magnitude of the coefficient as a penalty to the loss function. this helps to reduce complexity by shrinking the coefficients. the equation of the cost function will be: ![image-4.png](attachment:image-4.png) where: ![image-3.png](attachment:image-3.png)\n",
    "- Lasso Regression :\n",
    " Least Absolute Shrinkage and Selection Operator regression (L1 Regularization) adds absolute value of magnitude of coefficient as a penalty to the loss function. this helps to find important features by penalizing weights equal to zero if the feature isn't important to the model. the equation for cost function will be:![image-2.png](attachment:image-2.png) where: ![image-3.png](attachment:image-3.png)"
   ]
  },
  {
   "cell_type": "markdown",
   "id": "dd975b83",
   "metadata": {},
   "source": [
    "#### 3. Calculate output k-fold Cross-Validationfor dataset = [[10], [9], [8], [7], [6], [5], [4], [3], [2], [1]]"
   ]
  },
  {
   "cell_type": "code",
   "execution_count": 102,
   "id": "da5af67d",
   "metadata": {},
   "outputs": [
    {
     "name": "stdout",
     "output_type": "stream",
     "text": [
      "fold 1 Train set: [[8 7 6 5 4 3 2 1]], Test set: [[10  9]]\n",
      "fold 2 Train set: [[10  9  6  5  4  3  2  1]], Test set: [[8 7]]\n",
      "fold 3 Train set: [[10  9  8  7  4  3  2  1]], Test set: [[6 5]]\n",
      "fold 4 Train set: [[10  9  8  7  6  5  2  1]], Test set: [[4 3]]\n",
      "fold 5 Train set: [[10  9  8  7  6  5  4  3]], Test set: [[2 1]]\n"
     ]
    }
   ],
   "source": [
    "from sklearn.model_selection import KFold\n",
    "data=np.array([[10], [9], [8], [7], [6], [5], [4], [3], [2], [1]])\n",
    "\n",
    "#np.random.shuffle(data)\n",
    "kf=KFold(n_splits=5)\n",
    "i=1\n",
    "for train_index,test_index in kf.split(data):\n",
    "    print(f'fold {i} Train set: {data[train_index].T}, Test set: {data[test_index].T}')\n",
    "    i+=1"
   ]
  },
  {
   "cell_type": "code",
   "execution_count": null,
   "id": "fee79441",
   "metadata": {},
   "outputs": [],
   "source": []
  }
 ],
 "metadata": {
  "kernelspec": {
   "display_name": "Python 3 (ipykernel)",
   "language": "python",
   "name": "python3"
  },
  "language_info": {
   "codemirror_mode": {
    "name": "ipython",
    "version": 3
   },
   "file_extension": ".py",
   "mimetype": "text/x-python",
   "name": "python",
   "nbconvert_exporter": "python",
   "pygments_lexer": "ipython3",
   "version": "3.11.5"
  }
 },
 "nbformat": 4,
 "nbformat_minor": 5
}
